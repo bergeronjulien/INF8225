{
 "cells": [
  {
   "cell_type": "markdown",
   "metadata": {},
   "source": [
    "## Dropout is best !!!!111!1!1!"
   ]
  },
  {
   "cell_type": "code",
   "execution_count": 3,
   "metadata": {},
   "outputs": [],
   "source": [
    "import torch\n",
    "from torch import nn\n",
    "from torch import optim\n",
    "from torch.autograd import Variable\n",
    "import torch.nn.functional as F\n",
    "import numpy as np\n",
    "import matplotlib.pyplot as plt\n",
    "import torchvision\n",
    "from fashion import FashionMNIST"
   ]
  },
  {
   "cell_type": "code",
   "execution_count": 4,
   "metadata": {},
   "outputs": [
    {
     "data": {
      "text/plain": [
       "<matplotlib.image.AxesImage at 0x21c84d24668>"
      ]
     },
     "execution_count": 4,
     "metadata": {},
     "output_type": "execute_result"
    },
    {
     "data": {
      "image/png": "[encoded data removed]",
      "text/plain": [
       "<Figure size 432x288 with 1 Axes>"
      ]
     },
     "metadata": {
      "needs_background": "light"
     },
     "output_type": "display_data"
    }
   ],
   "source": [
    "train_data = FashionMNIST('../data', train=True, download=True,\n",
    "                   transform=torchvision.transforms.Compose([\n",
    "                       torchvision.transforms.ToTensor(),\n",
    "                       torchvision.transforms.Normalize((0.1307,), (0.3081,))\n",
    "                   ]))\n",
    "\n",
    "valid_data = FashionMNIST('../data', train=True, download=True,\n",
    "                   transform=torchvision.transforms.Compose([\n",
    "                       torchvision.transforms.ToTensor(),\n",
    "                       torchvision.transforms.Normalize((0.1307,), (0.3081,))\n",
    "                   ]))\n",
    "\n",
    "\n",
    "train_idx = np.random.choice(train_data.data.shape[0], 54000, replace=False)\n",
    "\n",
    "train_data.data = train_data.data[train_idx, :]\n",
    "train_data.targets = train_data.targets[torch.from_numpy(train_idx).type(torch.LongTensor)]\n",
    "\n",
    "mask = np.ones(60000)\n",
    "mask[train_idx] = 0\n",
    "\n",
    "valid_data.data = valid_data.data[torch.from_numpy(np.argwhere(mask)), :].squeeze()\n",
    "valid_data.targets = valid_data.targets[torch.from_numpy(mask).type(torch.ByteTensor)]\n",
    "\n",
    "batch_size = 100\n",
    "test_batch_size = 100\n",
    "\n",
    "train_loader = torch.utils.data.DataLoader(train_data,\n",
    "    batch_size=batch_size, shuffle=True)\n",
    "\n",
    "valid_loader = torch.utils.data.DataLoader(valid_data,\n",
    "    batch_size=batch_size, shuffle=True)\n",
    "\n",
    "test_loader = torch.utils.data.DataLoader(\n",
    "    FashionMNIST('../data', train=False, transform=torchvision.transforms.Compose([\n",
    "                       torchvision.transforms.ToTensor(),\n",
    "                       torchvision.transforms.Normalize((0.1307,), (0.3081,))\n",
    "                   ])),\n",
    "    batch_size=test_batch_size, shuffle=True)\n",
    "\n",
    "validation_data = {}\n",
    "loss_train_data = {}\n",
    "loss_validation_data = {}\n",
    "\n",
    "plt.imshow(train_loader.dataset.data[1].numpy()) #Potentially printing out an image"
   ]
  },
  {
   "cell_type": "code",
   "execution_count": 6,
   "metadata": {},
   "outputs": [
    {
     "data": {
      "text/plain": [
       "<matplotlib.image.AxesImage at 0x21c84e61da0>"
      ]
     },
     "execution_count": 6,
     "metadata": {},
     "output_type": "execute_result"
    },
    {
     "data": {
      "image/png": "[encoded data removed]",
      "text/plain": [
       "<Figure size 432x288 with 1 Axes>"
      ]
     },
     "metadata": {
      "needs_background": "light"
     },
     "output_type": "display_data"
    }
   ],
   "source": [
    "plt.imshow(train_loader.dataset.data[10].numpy()) # another image"
   ]
  },
  {
   "cell_type": "markdown",
   "metadata": {},
   "source": [
    "#### Modèle 1: FCC sans dropout"
   ]
  },
  {
   "cell_type": "code",
   "execution_count": 7,
   "metadata": {},
   "outputs": [],
   "source": [
    "class FccWithoutDropout(nn.Module):\n",
    "    def __init__(self, model_id, input_size, hidden_sizes, output_size, activation_function):\n",
    "        super().__init__()\n",
    "        self.model_id = model_id\n",
    "        self.activation_function = activation_function\n",
    "        self.inputToHidden = nn.Linear(input_size, hidden_sizes[0]) #Linear(D, M)\n",
    "        self.hiddenToHidden = nn.ModuleList()\n",
    "        for i in range(len(hidden_sizes) - 1):\n",
    "            self.hiddenToHidden.append(nn.Linear(hidden_sizes[i], hidden_sizes[i+1]))\n",
    "        self.hiddenToOutput = nn.Linear(hidden_sizes[len(hidden_sizes) - 1], output_size) #Linear(M, K)\n",
    "    \n",
    "    def forward(self, image):\n",
    "        batch_size = image.size()[0]\n",
    "        x = image.view(batch_size, -1)\n",
    "        x = self.activation_function(self.inputToHidden(x))\n",
    "        for f in self.hiddenToHidden:\n",
    "            x = self.activation_function(f(x))\n",
    "        x = F.log_softmax(self.hiddenToOutput(x), dim=1)\n",
    "        return x"
   ]
  },
  {
   "cell_type": "markdown",
   "metadata": {},
   "source": [
    "#### Modèle 2: FCC avec dropout"
   ]
  },
  {
   "cell_type": "code",
   "execution_count": 8,
   "metadata": {},
   "outputs": [],
   "source": [
    "class FccWithDropout(nn.Module):\n",
    "    def __init__(self, model_id, input_size, hidden_sizes, output_size, activation_function, dropout):\n",
    "        super().__init__()\n",
    "        self.model_id = model_id\n",
    "        self.activation_function = activation_function\n",
    "        self.inputToHidden = nn.Linear(input_size, hidden_sizes[0]) #Linear(D, M)\n",
    "        self.hiddenToHidden = nn.ModuleList()\n",
    "        for i in range(len(hidden_sizes) - 1):\n",
    "            self.hiddenToHidden.append(nn.Linear(hidden_sizes[i], hidden_sizes[i+1]))\n",
    "        self.hiddenToOutput = nn.Linear(hidden_sizes[len(hidden_sizes) - 1], output_size) #Linear(M, K)\n",
    "        self.dropout = dropout\n",
    "    \n",
    "    def forward(self, image):\n",
    "        batch_size = image.size()[0]\n",
    "        x = image.view(batch_size, -1)\n",
    "        x = self.activation_function(self.dropout(self.inputToHidden(x)))\n",
    "        for f in self.hiddenToHidden:\n",
    "            x = self.activation_function(self.dropout(f(x)))\n",
    "        x = F.log_softmax(self.dropout(self.hiddenToOutput(x)), dim=1)\n",
    "        return x"
   ]
  },
  {
   "cell_type": "markdown",
   "metadata": {},
   "source": [
    "#### Modèle 3: CNN sans dropout"
   ]
  },
  {
   "cell_type": "code",
   "execution_count": 9,
   "metadata": {},
   "outputs": [],
   "source": [
    "class SimpleCnnWithoutDropout(nn.Module): #taken from https://blog.algorithmia.com/convolutional-neural-nets-in-pytorch/\n",
    "    #Our batch shape for input x is (1, 28, 28)\n",
    "    \n",
    "    def __init__(self, model_id):\n",
    "        super().__init__()\n",
    "        self.model_id = model_id\n",
    "        \n",
    "        #Input channels = 1, output channels = 18\n",
    "        self.conv1 = torch.nn.Conv2d(1, 25, kernel_size=3, stride=1, padding=1)\n",
    "        self.pool = torch.nn.MaxPool2d(kernel_size=2, stride=2, padding=0)\n",
    "        \n",
    "        #4608 input features, 64 output features (see sizing flow below)\n",
    "        self.fc1 = torch.nn.Linear(25 * 14 * 14, 256)\n",
    "        \n",
    "        #64 input features, 10 output features for our 10 defined classes\n",
    "        self.fc2 = torch.nn.Linear(256, 10)\n",
    "        \n",
    "    def forward(self, x):\n",
    "        \n",
    "        #Computes the activation of the first convolution\n",
    "        #Size changes from (1, 28, 28) to (25, 28, 28)\n",
    "        x = F.relu(self.conv1(x))\n",
    "        \n",
    "        #Size changes from (25, 28, 28) to (25, 14, 14)\n",
    "        x = self.pool(x)\n",
    "       \n",
    "        #Reshape data to input to the input layer of the neural net\n",
    "        #Size changes from (25, 14, 14) to (1, 4900)\n",
    "        #Recall that the -1 infers this dimension from the other given dimension\n",
    "        x = x.view(-1, 25 * 14 *14)\n",
    "        \n",
    "        #Computes the activation of the first fully connected layer\n",
    "        #Size changes from (1, 4900) to (1, 256)\n",
    "        x = F.relu(self.fc1(x))\n",
    "        \n",
    "        #Computes the second fully connected layer (activation applied later)\n",
    "        #Size changes from (1, 256) to (1, 10)\n",
    "        x = self.fc2(x)\n",
    "        x = F.log_softmax(x, dim = 1)\n",
    "        return(x)"
   ]
  },
  {
   "cell_type": "markdown",
   "metadata": {},
   "source": [
    "#### Modèle 4: CNN avec dropout"
   ]
  },
  {
   "cell_type": "code",
   "execution_count": 10,
   "metadata": {},
   "outputs": [],
   "source": [
    "class SimpleCnnWithDropout(nn.Module): #taken from https://blog.algorithmia.com/convolutional-neural-nets-in-pytorch/\n",
    "    #Our batch shape for input x is (1, 28, 28)\n",
    "    \n",
    "    def __init__(self, model_id, dropout):\n",
    "        super().__init__()\n",
    "        self.model_id = model_id\n",
    "        self.dropout = dropout\n",
    "        \n",
    "        #Input channels = 1, output channels = 18\n",
    "        self.conv1 = torch.nn.Conv2d(1, 25, kernel_size=3, stride=1, padding=1)\n",
    "        self.pool = torch.nn.MaxPool2d(kernel_size=2, stride=2, padding=0)\n",
    "        \n",
    "        #4608 input features, 64 output features (see sizing flow below)\n",
    "        self.fc1 = torch.nn.Linear(25 * 14 * 14, 256)\n",
    "        \n",
    "        #64 input features, 10 output features for our 10 defined classes\n",
    "        self.fc2 = torch.nn.Linear(256, 10)\n",
    "        \n",
    "    def forward(self, x):\n",
    "        \n",
    "        #Computes the activation of the first convolution\n",
    "        #Size changes from (1, 28, 28) to (25, 28, 28)\n",
    "        x = F.relu(self.dropout(self.conv1(x)))\n",
    "        \n",
    "        #Size changes from (25, 28, 28) to (25, 14, 14)\n",
    "        x = self.pool(x)\n",
    "       \n",
    "        #Reshape data to input to the input layer of the neural net\n",
    "        #Size changes from (25, 14, 14) to (1, 4900)\n",
    "        #Recall that the -1 infers this dimension from the other given dimension\n",
    "        x = x.view(-1, 25 * 14 *14)\n",
    "        \n",
    "        #Computes the activation of the first fully connected layer\n",
    "        #Size changes from (1, 4900) to (1, 256)\n",
    "        x = F.relu(self.dropout(self.fc1(x)))\n",
    "        \n",
    "        #Computes the second fully connected layer (activation applied later)\n",
    "        #Size changes from (1, 256) to (1, 10)\n",
    "        x = self.fc2(x)\n",
    "        x = F.log_softmax(self.dropout(x), dim = 1)\n",
    "        return(x)"
   ]
  },
  {
   "cell_type": "markdown",
   "metadata": {},
   "source": [
    "#### Modèle 5: VGG sans dropout"
   ]
  },
  {
   "cell_type": "code",
   "execution_count": null,
   "metadata": {},
   "outputs": [],
   "source": []
  },
  {
   "cell_type": "markdown",
   "metadata": {},
   "source": [
    "#### Modèle 6: VGG avec dropout"
   ]
  },
  {
   "cell_type": "code",
   "execution_count": null,
   "metadata": {},
   "outputs": [],
   "source": []
  },
  {
   "cell_type": "markdown",
   "metadata": {},
   "source": [
    "#### Modèle 7: Inception V3 sans dropout"
   ]
  },
  {
   "cell_type": "code",
   "execution_count": null,
   "metadata": {},
   "outputs": [],
   "source": []
  },
  {
   "cell_type": "markdown",
   "metadata": {},
   "source": [
    "#### Modèle 8: Inception V3 avec dropout"
   ]
  },
  {
   "cell_type": "code",
   "execution_count": null,
   "metadata": {},
   "outputs": [],
   "source": []
  },
  {
   "cell_type": "markdown",
   "metadata": {},
   "source": [
    "#### Modèle 9: Resnet sans dropout"
   ]
  },
  {
   "cell_type": "code",
   "execution_count": null,
   "metadata": {},
   "outputs": [],
   "source": []
  },
  {
   "cell_type": "markdown",
   "metadata": {},
   "source": [
    "#### Modèle 10: Resnet avec dropout"
   ]
  },
  {
   "cell_type": "code",
   "execution_count": null,
   "metadata": {},
   "outputs": [],
   "source": []
  },
  {
   "cell_type": "markdown",
   "metadata": {},
   "source": [
    "#### Entraînement"
   ]
  },
  {
   "cell_type": "code",
   "execution_count": 11,
   "metadata": {},
   "outputs": [],
   "source": [
    "def train(model, train_loader, optimizer):\n",
    "    model.train()\n",
    "    total_loss = 0\n",
    "    for batch_idx, (data, target) in enumerate(train_loader):\n",
    "        data, target = Variable(data, volatile=True).cuda(), Variable(target).cuda() # if you have access to a gpu\n",
    "        #data, target = Variable(data), Variable(target)\n",
    "        optimizer.zero_grad()\n",
    "        output = model(data)  # calls the forward function\n",
    "        loss = F.nll_loss(output, target)\n",
    "        loss.backward()\n",
    "        optimizer.step()\n",
    "        total_loss += F.nll_loss(output, target, size_average=False).item()\n",
    "\n",
    "    total_loss /= len(train_loader.dataset)\n",
    "    loss_train_data[model.model_id].append(total_loss)\n",
    "\n",
    "    return model"
   ]
  },
  {
   "cell_type": "markdown",
   "metadata": {},
   "source": [
    "#### Validation"
   ]
  },
  {
   "cell_type": "code",
   "execution_count": 12,
   "metadata": {},
   "outputs": [],
   "source": [
    "def valid(model, valid_loader):\n",
    "    model.eval()\n",
    "    valid_loss = 0\n",
    "    correct = 0\n",
    "    for data, target in valid_loader:\n",
    "        data, target = Variable(data, volatile=True).cuda(), Variable(target).cuda() # if you have access to a gpu\n",
    "        #data, target = Variable(data, volatile=True), Variable(target)\n",
    "        output = model(data)\n",
    "        valid_loss += F.nll_loss(output, target, size_average=False).item() # sum up batch loss\n",
    "        pred = output.data.max(1, keepdim=True)[1] # get the index of the max log-probability\n",
    "        correct += pred.eq(target.data.view_as(pred)).cpu().sum()\n",
    "\n",
    "    valid_loss /= len(valid_loader.dataset)\n",
    "    print('\\n' + \"valid\" + ' set: Average loss: {:.4f}, Accuracy: {}/{} ({:.0f}%)\\n'.format(\n",
    "        valid_loss, correct, len(valid_loader.dataset),\n",
    "        100. * correct / len(valid_loader.dataset)))\n",
    "    loss_validation_data[model.model_id].append(valid_loss)\n",
    "    return 1.0 * correct.item() / len(valid_loader.dataset) "
   ]
  },
  {
   "cell_type": "markdown",
   "metadata": {},
   "source": [
    "#### Test"
   ]
  },
  {
   "cell_type": "code",
   "execution_count": 13,
   "metadata": {},
   "outputs": [],
   "source": [
    "def test(model, test_loader):\n",
    "    model.eval()\n",
    "    test_loss = 0\n",
    "    correct = 0\n",
    "    for data, target in test_loader:\n",
    "        data, target = Variable(data, volatile=True).cuda(), Variable(target).cuda() # if you have access to a gpu\n",
    "        #data, target = Variable(data, volatile=True), Variable(target)\n",
    "        output = model(data)\n",
    "        test_loss += F.nll_loss(output, target, size_average=False).item() # sum up batch loss\n",
    "        pred = output.data.max(1, keepdim=True)[1] # get the index of the max log-probability\n",
    "        correct += pred.eq(target.data.view_as(pred)).cpu().sum()\n",
    "\n",
    "    test_loss /= len(test_loader.dataset)\n",
    "    print('\\n' + \"test\" + ' set: Average loss: {:.4f}, Accuracy: {}/{} ({:.0f}%)\\n'.format(\n",
    "        test_loss, correct, len(test_loader.dataset),\n",
    "        100. * correct / len(test_loader.dataset)))"
   ]
  },
  {
   "cell_type": "markdown",
   "metadata": {},
   "source": [
    "#### Expérimentation"
   ]
  },
  {
   "cell_type": "code",
   "execution_count": 14,
   "metadata": {},
   "outputs": [],
   "source": [
    "def experiment(model, epochs=10, lr=0.001):\n",
    "    best_precision = 0\n",
    "    optimizer = optim.Adam(model.parameters(), lr=lr)\n",
    "    validation_data[model.model_id] = []\n",
    "    loss_validation_data[model.model_id]= []\n",
    "    loss_train_data[model.model_id] = []\n",
    "    for epoch in range(1, epochs + 1):\n",
    "        model = train(model, train_loader, optimizer)\n",
    "        precision = valid(model, validation_loader)\n",
    "        validation_data[model.model_id].append(precision)\n",
    "        if precision > best_precision:\n",
    "            best_precision = precision\n",
    "            best_model = model\n",
    "    return best_model, best_precision"
   ]
  },
  {
   "cell_type": "markdown",
   "metadata": {},
   "source": [
    "#### Définition des modèles utilisés"
   ]
  },
  {
   "cell_type": "code",
   "execution_count": 18,
   "metadata": {},
   "outputs": [],
   "source": [
    "halfDropout = nn.Dropout(0.5)\n",
    "fifthDropout = nn.Dropout(0.2)\n",
    "\n",
    "fcc = FccWithoutDropout(\"fcc\",28*28, [512], 10, F.sigmoid)\n",
    "fccHalfDropout = FccWithDropout(\"fcc_d.5\",28*28, [512], 10, F.sigmoid, halfDropout)\n",
    "fccFifthDropout = FccWithDropout(\"fcc_d.2\",28*28, [512], 10, F.sigmoid, fifthDropout)\n",
    "cnn = SimpleCnnWithoutDropout(\"cnn\")\n",
    "cnnHalfDropout = SimpleCnnWithDropout(\"cnn_d.5\", halfDropout)\n",
    "cnnFifthDropout = SimpleCnnWithDropout(\"cnn_d.2\", fifthDropout)\n",
    "\n",
    "models = [\n",
    "          fcc, \n",
    "          fccHalfDropout, \n",
    "          fccFifthDropout,\n",
    "          cnn,\n",
    "          cnnHalfDropout,\n",
    "          cnnFifthDropout\n",
    "         ]"
   ]
  },
  {
   "cell_type": "markdown",
   "metadata": {},
   "source": [
    "#### main"
   ]
  },
  {
   "cell_type": "code",
   "execution_count": 19,
   "metadata": {
    "scrolled": true
   },
   "outputs": [
    {
     "name": "stderr",
     "output_type": "stream",
     "text": [
      "C:\\ProgramData\\Anaconda3\\lib\\site-packages\\ipykernel_launcher.py:5: UserWarning: volatile was removed and now has no effect. Use `with torch.no_grad():` instead.\n",
      "  \"\"\"\n",
      "C:\\ProgramData\\Anaconda3\\lib\\site-packages\\ipykernel_launcher.py:6: UserWarning: volatile was removed and now has no effect. Use `with torch.no_grad():` instead.\n",
      "  \n"
     ]
    },
    {
     "name": "stdout",
     "output_type": "stream",
     "text": [
      "\n",
      "valid set: Average loss: 0.4299, Accuracy: 8468/10000 (84%)\n",
      "\n",
      "\n",
      "valid set: Average loss: 0.4255, Accuracy: 8407/10000 (84%)\n",
      "\n",
      "\n",
      "valid set: Average loss: 0.3661, Accuracy: 8696/10000 (86%)\n",
      "\n",
      "\n",
      "valid set: Average loss: 0.3470, Accuracy: 8785/10000 (87%)\n",
      "\n",
      "\n",
      "valid set: Average loss: 0.3483, Accuracy: 8731/10000 (87%)\n",
      "\n",
      "\n",
      "valid set: Average loss: 0.3360, Accuracy: 8793/10000 (87%)\n",
      "\n",
      "\n",
      "valid set: Average loss: 0.3626, Accuracy: 8668/10000 (86%)\n",
      "\n",
      "\n",
      "valid set: Average loss: 0.3209, Accuracy: 8837/10000 (88%)\n",
      "\n",
      "\n",
      "valid set: Average loss: 0.3198, Accuracy: 8845/10000 (88%)\n",
      "\n",
      "\n",
      "valid set: Average loss: 0.3351, Accuracy: 8801/10000 (88%)\n",
      "\n",
      "final precision for model  fcc  is  0.8845\n",
      "\n",
      "valid set: Average loss: 0.4946, Accuracy: 8213/10000 (82%)\n",
      "\n",
      "\n",
      "valid set: Average loss: 0.4697, Accuracy: 8347/10000 (83%)\n",
      "\n",
      "\n",
      "valid set: Average loss: 0.4862, Accuracy: 8336/10000 (83%)\n",
      "\n",
      "\n",
      "valid set: Average loss: 0.4382, Accuracy: 8488/10000 (84%)\n",
      "\n",
      "\n",
      "valid set: Average loss: 0.4462, Accuracy: 8450/10000 (84%)\n",
      "\n",
      "\n",
      "valid set: Average loss: 0.4696, Accuracy: 8452/10000 (84%)\n",
      "\n",
      "\n",
      "valid set: Average loss: 0.4774, Accuracy: 8463/10000 (84%)\n",
      "\n",
      "\n",
      "valid set: Average loss: 0.4431, Accuracy: 8511/10000 (85%)\n",
      "\n",
      "\n",
      "valid set: Average loss: 0.4621, Accuracy: 8456/10000 (84%)\n",
      "\n",
      "\n",
      "valid set: Average loss: 0.4618, Accuracy: 8482/10000 (84%)\n",
      "\n",
      "final precision for model  fcc_d.5  is  0.8511\n",
      "\n",
      "valid set: Average loss: 0.4611, Accuracy: 8334/10000 (83%)\n",
      "\n",
      "\n",
      "valid set: Average loss: 0.4303, Accuracy: 8459/10000 (84%)\n",
      "\n",
      "\n",
      "valid set: Average loss: 0.4109, Accuracy: 8554/10000 (85%)\n",
      "\n",
      "\n",
      "valid set: Average loss: 0.4319, Accuracy: 8475/10000 (84%)\n",
      "\n",
      "\n",
      "valid set: Average loss: 0.3836, Accuracy: 8643/10000 (86%)\n",
      "\n",
      "\n",
      "valid set: Average loss: 0.3735, Accuracy: 8711/10000 (87%)\n",
      "\n",
      "\n",
      "valid set: Average loss: 0.3684, Accuracy: 8726/10000 (87%)\n",
      "\n",
      "\n",
      "valid set: Average loss: 0.3771, Accuracy: 8716/10000 (87%)\n",
      "\n",
      "\n",
      "valid set: Average loss: 0.3738, Accuracy: 8724/10000 (87%)\n",
      "\n",
      "\n",
      "valid set: Average loss: 0.3695, Accuracy: 8737/10000 (87%)\n",
      "\n",
      "final precision for model  fcc_d.2  is  0.8737\n",
      "\n",
      "valid set: Average loss: 0.3197, Accuracy: 8861/10000 (88%)\n",
      "\n",
      "\n",
      "valid set: Average loss: 0.2805, Accuracy: 8984/10000 (89%)\n",
      "\n",
      "\n",
      "valid set: Average loss: 0.2675, Accuracy: 9013/10000 (90%)\n",
      "\n",
      "\n",
      "valid set: Average loss: 0.2594, Accuracy: 9053/10000 (90%)\n",
      "\n",
      "\n",
      "valid set: Average loss: 0.2507, Accuracy: 9130/10000 (91%)\n",
      "\n",
      "\n",
      "valid set: Average loss: 0.2637, Accuracy: 9081/10000 (90%)\n",
      "\n",
      "\n",
      "valid set: Average loss: 0.2721, Accuracy: 9077/10000 (90%)\n",
      "\n",
      "\n",
      "valid set: Average loss: 0.2632, Accuracy: 9159/10000 (91%)\n",
      "\n",
      "\n",
      "valid set: Average loss: 0.2804, Accuracy: 9159/10000 (91%)\n",
      "\n",
      "\n",
      "valid set: Average loss: 0.2901, Accuracy: 9164/10000 (91%)\n",
      "\n",
      "final precision for model  cnn  is  0.9164\n",
      "\n",
      "valid set: Average loss: 0.6341, Accuracy: 8560/10000 (85%)\n",
      "\n",
      "\n",
      "valid set: Average loss: 0.5382, Accuracy: 8676/10000 (86%)\n",
      "\n",
      "\n",
      "valid set: Average loss: 0.4793, Accuracy: 8778/10000 (87%)\n",
      "\n",
      "\n",
      "valid set: Average loss: 0.4420, Accuracy: 8765/10000 (87%)\n",
      "\n",
      "\n",
      "valid set: Average loss: 0.4301, Accuracy: 8890/10000 (88%)\n",
      "\n",
      "\n",
      "valid set: Average loss: 0.4091, Accuracy: 8904/10000 (89%)\n",
      "\n",
      "\n",
      "valid set: Average loss: 0.4055, Accuracy: 8898/10000 (88%)\n",
      "\n",
      "\n",
      "valid set: Average loss: 0.3768, Accuracy: 8931/10000 (89%)\n",
      "\n",
      "\n",
      "valid set: Average loss: 0.3869, Accuracy: 8948/10000 (89%)\n",
      "\n",
      "\n",
      "valid set: Average loss: 0.3489, Accuracy: 8977/10000 (89%)\n",
      "\n",
      "final precision for model  cnn_d.5  is  0.8977\n",
      "\n",
      "valid set: Average loss: 0.3546, Accuracy: 8755/10000 (87%)\n",
      "\n",
      "\n",
      "valid set: Average loss: 0.3231, Accuracy: 8813/10000 (88%)\n",
      "\n",
      "\n",
      "valid set: Average loss: 0.2879, Accuracy: 8964/10000 (89%)\n",
      "\n",
      "\n",
      "valid set: Average loss: 0.2707, Accuracy: 8988/10000 (89%)\n",
      "\n",
      "\n",
      "valid set: Average loss: 0.2633, Accuracy: 9055/10000 (90%)\n",
      "\n",
      "\n",
      "valid set: Average loss: 0.2530, Accuracy: 9082/10000 (90%)\n",
      "\n",
      "\n",
      "valid set: Average loss: 0.2614, Accuracy: 9042/10000 (90%)\n",
      "\n",
      "\n",
      "valid set: Average loss: 0.2455, Accuracy: 9129/10000 (91%)\n",
      "\n",
      "\n",
      "valid set: Average loss: 0.2481, Accuracy: 9120/10000 (91%)\n",
      "\n",
      "\n",
      "valid set: Average loss: 0.2404, Accuracy: 9163/10000 (91%)\n",
      "\n",
      "final precision for model  cnn_d.2  is  0.9163\n",
      "\n",
      "test set: Average loss: 0.2901, Accuracy: 9164/10000 (91%)\n",
      "\n",
      "The best model is: cnn\n"
     ]
    },
    {
     "data": {
      "image/png": "[encoded data removed]",
      "text/plain": [
       "<Figure size 432x288 with 1 Axes>"
      ]
     },
     "metadata": {
      "needs_background": "light"
     },
     "output_type": "display_data"
    },
    {
     "data": {
      "image/png": "[encoded data removed]",
      "text/plain": [
       "<Figure size 432x288 with 1 Axes>"
      ]
     },
     "metadata": {
      "needs_background": "light"
     },
     "output_type": "display_data"
    }
   ],
   "source": [
    "best_precision = 0\n",
    "for model in models:\n",
    "    model.cuda()  # if you have access to a gpu\n",
    "    model, precision = experiment(model, epochs=10)\n",
    "    print(\"final precision for model \", model.model_id, \" is \", precision)\n",
    "    if precision > best_precision:\n",
    "        best_precision = precision\n",
    "        best_model = model\n",
    "\n",
    "test(best_model, test_loader)\n",
    "print(\"The best model is: \" + best_model.model_id)\n",
    "for i, data in validation_data.items():\n",
    "    plt.plot(data, label = i)\n",
    "plt.legend()\n",
    "plt.xlabel(\"Epoch\")\n",
    "plt.ylabel(\"Accuracy\")\n",
    "plt.title(\"Different Acivation Functions\")\n",
    "plt.show()\n",
    "\n",
    "for i, data in loss_validation_data.items():\n",
    "    plt.plot(data, label = i+\" validating\")\n",
    "for i, data in loss_train_data.items():\n",
    "    plt.plot(data, label = i+\" training\", linestyle = '--')\n",
    "plt.legend()\n",
    "plt.xlabel(\"Epoch\")\n",
    "plt.ylabel(\"Loss\")\n",
    "plt.show()"
   ]
  },
  {
   "cell_type": "code",
   "execution_count": null,
   "metadata": {},
   "outputs": [],
   "source": []
  }
 ],
 "metadata": {
  "kernelspec": {
   "display_name": "Python 3",
   "language": "python",
   "name": "python3"
  },
  "language_info": {
   "codemirror_mode": {
    "name": "ipython",
    "version": 3
   },
   "file_extension": ".py",
   "mimetype": "text/x-python",
   "name": "python",
   "nbconvert_exporter": "python",
   "pygments_lexer": "ipython3",
   "version": "3.7.3"
  }
 },
 "nbformat": 4,
 "nbformat_minor": 2
}
